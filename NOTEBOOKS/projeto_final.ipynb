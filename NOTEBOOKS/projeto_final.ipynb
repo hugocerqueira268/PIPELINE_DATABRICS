{
 "cells": [
  {
   "cell_type": "markdown",
   "metadata": {
    "application/vnd.databricks.v1+cell": {
     "cellMetadata": {},
     "inputWidgets": {},
     "nuid": "5364c496-efc2-4d9d-9945-858c96219fe8",
     "showTitle": false,
     "title": ""
    },
    "id": "27oySE9MTLy0"
   },
   "source": [
    "# Projeto Final - Bike Sharing"
   ]
  },
  {
   "cell_type": "markdown",
   "metadata": {
    "application/vnd.databricks.v1+cell": {
     "cellMetadata": {},
     "inputWidgets": {},
     "nuid": "f43c08e4-1210-4387-bb7e-cb89a2e071d2",
     "showTitle": false,
     "title": ""
    },
    "id": "4ZTl3ONxTLy3"
   },
   "source": [
    "## dbutils"
   ]
  },
  {
   "cell_type": "markdown",
   "metadata": {
    "application/vnd.databricks.v1+cell": {
     "cellMetadata": {},
     "inputWidgets": {},
     "nuid": "f1b2f30f-14df-42e3-b7c3-dcba142d386d",
     "showTitle": false,
     "title": ""
    },
    "id": "iWkQ7f6UTLy3"
   },
   "source": [
    "### 1) Localize o dataset bikeSharing dentro do diretório de datasets do Databricks"
   ]
  },
  {
   "cell_type": "code",
   "execution_count": 0,
   "metadata": {
    "application/vnd.databricks.v1+cell": {
     "cellMetadata": {},
     "inputWidgets": {},
     "nuid": "e140dfe3-fd1f-4823-9e8c-93bf5de26ee1",
     "showTitle": false,
     "title": ""
    },
    "id": "Q4iunn-xTLy3"
   },
   "outputs": [],
   "source": []
  },
  {
   "cell_type": "markdown",
   "metadata": {
    "application/vnd.databricks.v1+cell": {
     "cellMetadata": {},
     "inputWidgets": {},
     "nuid": "508bdab2-6482-44ef-be49-7b923a2d07e3",
     "showTitle": false,
     "title": ""
    },
    "id": "aa9_2y8STLy5"
   },
   "source": [
    "### 2) Acesse o diretório do projeto bikeSharing e avalie o seu conteúdo"
   ]
  },
  {
   "cell_type": "code",
   "execution_count": 0,
   "metadata": {
    "application/vnd.databricks.v1+cell": {
     "cellMetadata": {},
     "inputWidgets": {},
     "nuid": "48bd2f16-9ebf-47e5-b451-4f5d3408ef00",
     "showTitle": false,
     "title": ""
    },
    "id": "GSm7jHtlTLy5"
   },
   "outputs": [],
   "source": []
  },
  {
   "cell_type": "code",
   "execution_count": 0,
   "metadata": {
    "application/vnd.databricks.v1+cell": {
     "cellMetadata": {},
     "inputWidgets": {},
     "nuid": "39c77719-b9c4-4f51-ab88-77e0a18b3954",
     "showTitle": false,
     "title": ""
    },
    "id": "7xrHcs7TTLy5"
   },
   "outputs": [],
   "source": []
  },
  {
   "cell_type": "markdown",
   "metadata": {
    "application/vnd.databricks.v1+cell": {
     "cellMetadata": {},
     "inputWidgets": {},
     "nuid": "6cf5ee82-53e3-4404-8b46-63f27b25d058",
     "showTitle": false,
     "title": ""
    },
    "id": "aVc5dP63TLy6"
   },
   "source": [
    "### 3) Visualize o conteúdo dos arquivos do projeto"
   ]
  },
  {
   "cell_type": "code",
   "execution_count": 0,
   "metadata": {
    "application/vnd.databricks.v1+cell": {
     "cellMetadata": {},
     "inputWidgets": {},
     "nuid": "d7d72737-c8c0-44ff-9bd5-7220767c7394",
     "showTitle": false,
     "title": ""
    },
    "id": "La0cmW3bTLy6"
   },
   "outputs": [],
   "source": []
  },
  {
   "cell_type": "code",
   "execution_count": 0,
   "metadata": {
    "application/vnd.databricks.v1+cell": {
     "cellMetadata": {},
     "inputWidgets": {},
     "nuid": "659d6384-ce28-4811-8698-e3a14efd5000",
     "showTitle": false,
     "title": ""
    },
    "id": "RupEnXkPTLy6"
   },
   "outputs": [],
   "source": []
  },
  {
   "cell_type": "code",
   "execution_count": 0,
   "metadata": {
    "application/vnd.databricks.v1+cell": {
     "cellMetadata": {},
     "inputWidgets": {},
     "nuid": "ef5ddab5-1a64-444b-a832-aad3c1fa4687",
     "showTitle": false,
     "title": ""
    },
    "id": "fGytiY5ITLy7"
   },
   "outputs": [],
   "source": []
  },
  {
   "cell_type": "markdown",
   "metadata": {
    "application/vnd.databricks.v1+cell": {
     "cellMetadata": {},
     "inputWidgets": {},
     "nuid": "49f066fa-54f3-4921-9ce4-d89206e2aeb7",
     "showTitle": false,
     "title": ""
    },
    "id": "LbWm_a7pTLy7"
   },
   "source": [
    "### 4) Crie uma cópia do projeto bikeSharing para o seu diretório particular\n",
    "\n",
    "- Dentro do diretório aula-databricks crie um diretório chamado \"projeto_final\"\n",
    "- Dentro do diretório \"projeto_final\" crie o diretório \"bikeSharing\"\n",
    "- Copie o conteúdo do diretório \"/databricks-datasets/bikeSharing/\" para o diretório \"/FileStore/tables/aula-databricks/projeto_final/bikeSharing/\"\n",
    "- Visualize o conteúdo de \"/FileStore/tables/aula-databricks/projeto_final/bikeSharing/\""
   ]
  },
  {
   "cell_type": "code",
   "execution_count": 0,
   "metadata": {
    "application/vnd.databricks.v1+cell": {
     "cellMetadata": {},
     "inputWidgets": {},
     "nuid": "ae5e9a80-0b8b-4168-af01-aa17328522d2",
     "showTitle": false,
     "title": ""
    },
    "id": "lLdSUoFqTLy7"
   },
   "outputs": [],
   "source": []
  },
  {
   "cell_type": "code",
   "execution_count": 0,
   "metadata": {
    "application/vnd.databricks.v1+cell": {
     "cellMetadata": {},
     "inputWidgets": {},
     "nuid": "6457489b-5d73-4cf6-8c99-f052159586e4",
     "showTitle": false,
     "title": ""
    },
    "id": "X63A96_jTLy8"
   },
   "outputs": [],
   "source": []
  },
  {
   "cell_type": "code",
   "execution_count": 0,
   "metadata": {
    "application/vnd.databricks.v1+cell": {
     "cellMetadata": {},
     "inputWidgets": {},
     "nuid": "ae3a2fa1-02c4-48df-8d0d-6776f3af5683",
     "showTitle": false,
     "title": ""
    },
    "id": "eM7TKxfMTLy8"
   },
   "outputs": [],
   "source": []
  },
  {
   "cell_type": "markdown",
   "metadata": {
    "application/vnd.databricks.v1+cell": {
     "cellMetadata": {},
     "inputWidgets": {},
     "nuid": "5000685e-3836-4b52-b0c4-8a26f7a0b702",
     "showTitle": false,
     "title": ""
    },
    "id": "MUcorNGwTLy8"
   },
   "source": [
    "## Usando SQL"
   ]
  },
  {
   "cell_type": "markdown",
   "metadata": {
    "application/vnd.databricks.v1+cell": {
     "cellMetadata": {},
     "inputWidgets": {},
     "nuid": "14897248-ad7a-4655-a315-0723ca4193df",
     "showTitle": false,
     "title": ""
    },
    "id": "faC-SwzNTLy8"
   },
   "source": [
    "### 5) Crie um database chamado \"projeto_final\""
   ]
  },
  {
   "cell_type": "code",
   "execution_count": 0,
   "metadata": {
    "application/vnd.databricks.v1+cell": {
     "cellMetadata": {
      "implicitDf": true
     },
     "inputWidgets": {},
     "nuid": "9eca9924-aa4e-40c9-b465-d7ba77a42880",
     "showTitle": false,
     "title": ""
    },
    "id": "o65dEBGPTLy9"
   },
   "outputs": [],
   "source": []
  },
  {
   "cell_type": "code",
   "execution_count": 0,
   "metadata": {
    "application/vnd.databricks.v1+cell": {
     "cellMetadata": {
      "implicitDf": true
     },
     "inputWidgets": {},
     "nuid": "49671ca5-378e-4e48-93c5-1495c61bd33d",
     "showTitle": false,
     "title": ""
    },
    "id": "6LHD0LK3TLy9"
   },
   "outputs": [],
   "source": []
  },
  {
   "cell_type": "markdown",
   "metadata": {
    "application/vnd.databricks.v1+cell": {
     "cellMetadata": {},
     "inputWidgets": {},
     "nuid": "bc49e9d8-4123-4d15-aa1b-8c1f2f8cfa94",
     "showTitle": false,
     "title": ""
    },
    "id": "tjXXJvRmTLy9"
   },
   "source": [
    "### 6) Altere o contexto do banco de dados para o database \"projeto_final\""
   ]
  },
  {
   "cell_type": "code",
   "execution_count": 0,
   "metadata": {
    "application/vnd.databricks.v1+cell": {
     "cellMetadata": {
      "implicitDf": true
     },
     "inputWidgets": {},
     "nuid": "31acbd04-c18e-4817-a4bc-58fe9622d6c5",
     "showTitle": false,
     "title": ""
    },
    "id": "lVYD4ngETLy9"
   },
   "outputs": [],
   "source": []
  },
  {
   "cell_type": "markdown",
   "metadata": {
    "application/vnd.databricks.v1+cell": {
     "cellMetadata": {},
     "inputWidgets": {},
     "nuid": "72c7d406-3588-4e81-a089-bd7e27341167",
     "showTitle": false,
     "title": ""
    },
    "id": "uaNpmDbWTLy-"
   },
   "source": [
    "### 7) Crie uma tabela chamada \"dados_dia\" e preencha com o conteúdo do arquivo \"/FileStore/tables/aula-databricks/projeto_final/bikeSharing/data-001/day.csv\"\n",
    "\n",
    "- O dataset day.csv possui o seguinte conjunto de atributos:\n",
    "\n",
    "| nome | tipo |\n",
    "|------|------|\n",
    "| instant | int |\n",
    "| dteday | timestamp |\n",
    "| season | int |\n",
    "| yr | int |\n",
    "| mnth | int |\n",
    "| holiday | int |\n",
    "| weekday | int |\n",
    "| workingday | int |\n",
    "| weathersit | int |\n",
    "| temp | float |\n",
    "| atemp | float |\n",
    "| hum | float |\n",
    "| windspeed | float |\n",
    "| casual | int |\n",
    "| registered | int |\n",
    "| cnt | int |"
   ]
  },
  {
   "cell_type": "code",
   "execution_count": 0,
   "metadata": {
    "application/vnd.databricks.v1+cell": {
     "cellMetadata": {
      "implicitDf": true
     },
     "inputWidgets": {},
     "nuid": "f423254e-457e-4f34-92a8-f1dd1e60a079",
     "showTitle": false,
     "title": ""
    },
    "id": "LsXhasNPTLy-"
   },
   "outputs": [],
   "source": []
  },
  {
   "cell_type": "code",
   "execution_count": 0,
   "metadata": {
    "application/vnd.databricks.v1+cell": {
     "cellMetadata": {
      "implicitDf": true
     },
     "inputWidgets": {},
     "nuid": "f0bcd018-efee-4ff1-a734-8aafec6bb720",
     "showTitle": false,
     "title": ""
    },
    "id": "pmX6aBYnTLy-"
   },
   "outputs": [],
   "source": []
  },
  {
   "cell_type": "markdown",
   "metadata": {
    "application/vnd.databricks.v1+cell": {
     "cellMetadata": {},
     "inputWidgets": {},
     "nuid": "053a1d06-8588-44b6-97c2-e6d28d312708",
     "showTitle": false,
     "title": ""
    },
    "id": "812Rn4YnTLy-"
   },
   "source": [
    "### 8) Visualize os dez primeiros registros da tabela \"dados_dia\""
   ]
  },
  {
   "cell_type": "code",
   "execution_count": 0,
   "metadata": {
    "application/vnd.databricks.v1+cell": {
     "cellMetadata": {
      "implicitDf": true
     },
     "inputWidgets": {},
     "nuid": "436a9337-2c94-4c7c-9046-8bf580d7aea5",
     "showTitle": false,
     "title": ""
    },
    "id": "uHLHaxPHTLy-"
   },
   "outputs": [],
   "source": []
  },
  {
   "cell_type": "markdown",
   "metadata": {
    "application/vnd.databricks.v1+cell": {
     "cellMetadata": {},
     "inputWidgets": {},
     "nuid": "55931074-03c9-45c7-a2dd-7b2ba6fbe78a",
     "showTitle": false,
     "title": ""
    },
    "id": "tzdOhB55TLy_"
   },
   "source": [
    "### 9) Crie uma tabela chamada \"dados_hora\" e preencha com o conteúdo do arquivo \"/FileStore/tables/aula-databricks/projeto_final/bikeSharing/data-001/hour.csv\"\n",
    "\n",
    "- O dataset hour.csv possui o seguinte conjunto de atributos:\n",
    "\n",
    "| nome | tipo |\n",
    "|------|------|\n",
    "| instant | int |\n",
    "| dteday | timestamp |\n",
    "| season | int |\n",
    "| yr | int |\n",
    "| mnth | int |\n",
    "| hr | int |\n",
    "| holiday | int |\n",
    "| weekday | int |\n",
    "| workingday | int |\n",
    "| weathersit | int |\n",
    "| temp | float |\n",
    "| atemp | float |\n",
    "| hum | float |\n",
    "| windspeed | float |\n",
    "| casual | int |\n",
    "| registered | int |\n",
    "| cnt | int |"
   ]
  },
  {
   "cell_type": "code",
   "execution_count": 0,
   "metadata": {
    "application/vnd.databricks.v1+cell": {
     "cellMetadata": {
      "implicitDf": true
     },
     "inputWidgets": {},
     "nuid": "80eb79b3-ec8d-4b05-a9f7-5ce51026083d",
     "showTitle": false,
     "title": ""
    },
    "id": "9Ceh0GK-TLy_"
   },
   "outputs": [],
   "source": []
  },
  {
   "cell_type": "code",
   "execution_count": 0,
   "metadata": {
    "application/vnd.databricks.v1+cell": {
     "cellMetadata": {
      "implicitDf": true
     },
     "inputWidgets": {},
     "nuid": "490d0ce3-9e5e-40a3-9b2c-43f886b8e501",
     "showTitle": false,
     "title": ""
    },
    "id": "vrOvSIlUTLy_"
   },
   "outputs": [],
   "source": []
  },
  {
   "cell_type": "markdown",
   "metadata": {
    "application/vnd.databricks.v1+cell": {
     "cellMetadata": {},
     "inputWidgets": {},
     "nuid": "f38805cb-d205-4875-bd4b-5a3d8ef408fe",
     "showTitle": false,
     "title": ""
    },
    "id": "smMq2T3qTLy_"
   },
   "source": [
    "### 10) Visualize os dez primeiros registros da tabela \"dados_dia\""
   ]
  },
  {
   "cell_type": "code",
   "execution_count": 0,
   "metadata": {
    "application/vnd.databricks.v1+cell": {
     "cellMetadata": {
      "implicitDf": true
     },
     "inputWidgets": {},
     "nuid": "ba8e746a-21f9-44b2-b439-c19ec7dcd5c7",
     "showTitle": false,
     "title": ""
    },
    "id": "xFVKvPJ1TLy_"
   },
   "outputs": [],
   "source": []
  },
  {
   "cell_type": "markdown",
   "metadata": {
    "application/vnd.databricks.v1+cell": {
     "cellMetadata": {},
     "inputWidgets": {},
     "nuid": "160076f4-ff6f-40c0-afe9-0bff23c5d26a",
     "showTitle": false,
     "title": ""
    },
    "id": "hIqrxa6kTLzA"
   },
   "source": [
    "## Explorando os dados"
   ]
  },
  {
   "cell_type": "markdown",
   "metadata": {
    "application/vnd.databricks.v1+cell": {
     "cellMetadata": {},
     "inputWidgets": {},
     "nuid": "604a774f-d334-41f9-8003-d14927eb3701",
     "showTitle": false,
     "title": ""
    },
    "id": "bsx2G0iXTLzA"
   },
   "source": [
    "### Informações dos atributos do dataset Bike Sharing\n",
    "[Fonte](http://archive.ics.uci.edu/ml/datasets/Bike+Sharing+Dataset)\n",
    "\n",
    "Tanto hour.csv quanto day.csv têm os seguintes campos, exceto hr, que não está disponível em day.csv\n",
    "\n",
    "- **instant**: índice de registro\n",
    "- **dteday** : data\n",
    "- **season** : estação (1: inverno, 2: primavera, 3: verão, 4: outono)\n",
    "- **yr**: ano (0: 2011, 1: 2012)\n",
    "- **mnth**: mês (1 a 12)\n",
    "- **hr** : hora (0 a 23)\n",
    "- **holiday**  : se o dia é feriado ou não (extraído de [Web Link])\n",
    "- **weekday** : dia da semana\n",
    "- **workingday** : se o dia não for nem fim de semana nem feriado é 1, caso contrário é 0.\n",
    "- **weathersit**: condições climáticas\n",
    "    - 1: Claro, Poucas nuvens, Parcialmente nublado, Parcialmente nublado\n",
    "    - 2: Névoa + Nublado, Névoa + Nuvens quebradas, Névoa + Poucas nuvens, Névoa\n",
    "    - 3: Neve fraca, Chuva fraca + Trovoada + Nuvens dispersas, Chuva fraca + Nuvens dispersas\n",
    "    - 4: Chuva Forte + Paletes de Gelo + Tempestade + Névoa, Neve + Neblina\n",
    "- **temp** : Temperatura normalizada em Celsius. Os valores são derivados via (t-t_min)/(t_max-t_min), t_min=-8, t_max=+39 (somente na escala horária)\n",
    "- **atemp**: Sensação térmica normalizada em Celsius. Os valores são derivados via (t-t_min)/(t_max-t_min), t_min=-16, t_max=+50 (somente na escala horária)\n",
    "- **hum**: Umidade normalizada. Os valores são divididos por 100 (máx)\n",
    "- **windspeed**: velocidade do vento normalizada. Os valores são divididos por 67 (máx)\n",
    "- **casual**: contagem de usuários casuais\n",
    "- **registered**: contagem de usuários registrados\n",
    "- **cnt**: contagem do total de bicicletas alugadas, incluindo bicicletas casuais e registradas"
   ]
  },
  {
   "cell_type": "markdown",
   "metadata": {
    "application/vnd.databricks.v1+cell": {
     "cellMetadata": {},
     "inputWidgets": {},
     "nuid": "cf2baa61-26f6-4704-ac74-8ab6fe7a4664",
     "showTitle": false,
     "title": ""
    },
    "id": "qH6KTF9YTLzA"
   },
   "source": [
    "### 11) Crie uma tabela de frequências com o somatório total de usuário casuais e registrados por estações do ano. Ordene o resultado segundo as estações do ano\n",
    "- Tanto faz utilizar a tabel dados_dia ou dados_hora neste exercícios, o resultado seria o mesmo"
   ]
  },
  {
   "cell_type": "code",
   "execution_count": 0,
   "metadata": {
    "application/vnd.databricks.v1+cell": {
     "cellMetadata": {
      "implicitDf": true
     },
     "inputWidgets": {},
     "nuid": "eeada81f-648d-49ff-a2d1-9e9c39383fae",
     "showTitle": false,
     "title": ""
    },
    "id": "JFjtMn2KTLzA"
   },
   "outputs": [],
   "source": []
  },
  {
   "cell_type": "markdown",
   "metadata": {
    "application/vnd.databricks.v1+cell": {
     "cellMetadata": {},
     "inputWidgets": {},
     "nuid": "789d53f0-6baa-4dff-8b64-671a3e87cdb6",
     "showTitle": false,
     "title": ""
    },
    "id": "mHBpKxYZTLzA"
   },
   "source": [
    "### 12) Crie uma tabela de frequências com o somatório total de usuário casuais e registrados por ano e estações do ano. Ordene o resultado segundo os atributos ano e estações do ano\n",
    "- Tanto faz utilizar a tabel dados_dia ou dados_hora neste exercícios, o resultado seria o mesmo"
   ]
  },
  {
   "cell_type": "code",
   "execution_count": 0,
   "metadata": {
    "application/vnd.databricks.v1+cell": {
     "cellMetadata": {
      "implicitDf": true
     },
     "inputWidgets": {},
     "nuid": "227e93e0-e253-4917-a512-6431a2a3df1e",
     "showTitle": false,
     "title": ""
    },
    "id": "rO5NsAenTLzA"
   },
   "outputs": [],
   "source": []
  },
  {
   "cell_type": "markdown",
   "metadata": {
    "application/vnd.databricks.v1+cell": {
     "cellMetadata": {},
     "inputWidgets": {},
     "nuid": "9b7d28db-afc7-4a57-8d35-a55fc556b18c",
     "showTitle": false,
     "title": ""
    },
    "id": "vWWK5HxuTLzA"
   },
   "source": [
    "### 13) Crie uma tabela de frequências com o somatório total de usuários (casuais e registrados) segundo o atributo hora. Ordene o resultado segundo o atributo hora\n",
    "- Aqui devemos utilizar a tabela dados_hora"
   ]
  },
  {
   "cell_type": "code",
   "execution_count": 0,
   "metadata": {
    "application/vnd.databricks.v1+cell": {
     "cellMetadata": {
      "implicitDf": true
     },
     "inputWidgets": {},
     "nuid": "2471407f-404a-4529-afa0-b961185383a8",
     "showTitle": false,
     "title": ""
    },
    "id": "iY3THaxoTLzA"
   },
   "outputs": [],
   "source": []
  },
  {
   "cell_type": "markdown",
   "metadata": {
    "application/vnd.databricks.v1+cell": {
     "cellMetadata": {},
     "inputWidgets": {},
     "nuid": "b2f9d236-6080-4d6b-b457-c287bf0d2309",
     "showTitle": false,
     "title": ""
    },
    "id": "QhVqAOC1TLzB"
   },
   "source": [
    "### 14) Explore o dataset livremente. Crie as elaborações que julgar interessante para entender melhor o dataset."
   ]
  },
  {
   "cell_type": "markdown",
   "metadata": {
    "application/vnd.databricks.v1+cell": {
     "cellMetadata": {},
     "inputWidgets": {},
     "nuid": "e5e4781e-4a32-4fbe-b807-a5afac1107d9",
     "showTitle": false,
     "title": ""
    },
    "id": "c3f2GfYjTLzB"
   },
   "source": [
    "## Spark SQL"
   ]
  },
  {
   "cell_type": "markdown",
   "metadata": {
    "application/vnd.databricks.v1+cell": {
     "cellMetadata": {},
     "inputWidgets": {},
     "nuid": "056484d0-df5e-4d58-9833-67e552b79e10",
     "showTitle": false,
     "title": ""
    },
    "id": "wiKMjnrmTLzB"
   },
   "source": [
    "### 15) Crie uma Temp View apenas com os registros da tabela \"dados_dia\" para o ano de 2011. Chame a nova Temp View de \"nova_tabela\""
   ]
  },
  {
   "cell_type": "code",
   "execution_count": 0,
   "metadata": {
    "application/vnd.databricks.v1+cell": {
     "cellMetadata": {},
     "inputWidgets": {},
     "nuid": "409fb3fc-205a-4588-a9d1-982a3467729a",
     "showTitle": false,
     "title": ""
    },
    "id": "mxABaGlSTLzB"
   },
   "outputs": [],
   "source": []
  },
  {
   "cell_type": "code",
   "execution_count": 0,
   "metadata": {
    "application/vnd.databricks.v1+cell": {
     "cellMetadata": {},
     "inputWidgets": {},
     "nuid": "bbe02833-52cd-45e7-998c-57de45997036",
     "showTitle": false,
     "title": ""
    },
    "id": "qqJS6I1fTLzB"
   },
   "outputs": [],
   "source": []
  },
  {
   "cell_type": "markdown",
   "metadata": {
    "application/vnd.databricks.v1+cell": {
     "cellMetadata": {},
     "inputWidgets": {},
     "nuid": "4a51badd-d613-4b5f-8f00-698d1e00bb68",
     "showTitle": false,
     "title": ""
    },
    "id": "Br-R3BWETLzB"
   },
   "source": [
    "### 16) Utilizando a TempView \"nova_tabela\" crie uma tabela de frequências que mostra o total de aluguéis de biciletas segundo os atributos \"weathersit\" e \"workingday\". Ordene o resultado segundos estes atributos também."
   ]
  },
  {
   "cell_type": "code",
   "execution_count": 0,
   "metadata": {
    "application/vnd.databricks.v1+cell": {
     "cellMetadata": {},
     "inputWidgets": {},
     "nuid": "477417aa-9131-4e2a-8037-4162a169eea6",
     "showTitle": false,
     "title": ""
    },
    "id": "qb7p9VpMTLzB"
   },
   "outputs": [],
   "source": []
  }
 ],
 "metadata": {
  "application/vnd.databricks.v1+notebook": {
   "dashboards": [],
   "language": "python",
   "notebookMetadata": {
    "mostRecentlyExecutedCommandWithImplicitDF": {
     "commandId": 312536568840866,
     "dataframes": [
      "_sqldf"
     ]
    },
    "pythonIndentUnit": 4
   },
   "notebookName": "projeto_final",
   "widgets": {}
  },
  "colab": {
   "provenance": []
  }
 },
 "nbformat": 4,
 "nbformat_minor": 0
}
