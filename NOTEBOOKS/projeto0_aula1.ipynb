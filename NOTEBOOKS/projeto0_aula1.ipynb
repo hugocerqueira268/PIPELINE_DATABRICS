{
 "cells": [
  {
   "cell_type": "code",
   "execution_count": 0,
   "metadata": {
    "application/vnd.databricks.v1+cell": {
     "cellMetadata": {},
     "inputWidgets": {},
     "nuid": "607d7f30-66e1-4dde-ae08-e9ae77ebe83f",
     "showTitle": false,
     "title": ""
    }
   },
   "outputs": [],
   "source": [
    "display(dbutils.fs.ls(\"/FileStore/tables/\"))"
   ]
  },
  {
   "cell_type": "code",
   "execution_count": 0,
   "metadata": {
    "application/vnd.databricks.v1+cell": {
     "cellMetadata": {},
     "inputWidgets": {},
     "nuid": "8863d9ed-4866-487f-91c5-987a940ccaec",
     "showTitle": false,
     "title": ""
    }
   },
   "outputs": [],
   "source": [
    "dbutils.fs.mkdirs(\"/FileStore/tables/arquivos_curso\")"
   ]
  },
  {
   "cell_type": "markdown",
   "metadata": {
    "application/vnd.databricks.v1+cell": {
     "cellMetadata": {},
     "inputWidgets": {},
     "nuid": "a7c68550-032d-4448-8124-4e2fa66431ea",
     "showTitle": false,
     "title": ""
    }
   },
   "source": [
    "\n",
    "# JSON"
   ]
  },
  {
   "cell_type": "code",
   "execution_count": 0,
   "metadata": {
    "application/vnd.databricks.v1+cell": {
     "cellMetadata": {
      "byteLimit": 2048000,
      "rowLimit": 10000
     },
     "inputWidgets": {},
     "nuid": "56f7472b-1eae-4c26-8144-accc36742320",
     "showTitle": false,
     "title": ""
    }
   },
   "outputs": [],
   "source": [
    "display(dbutils.fs.ls(\"/FileStore/tables/arquivos_curso\"))"
   ]
  },
  {
   "cell_type": "code",
   "execution_count": 0,
   "metadata": {
    "application/vnd.databricks.v1+cell": {
     "cellMetadata": {
      "byteLimit": 2048000,
      "rowLimit": 10000
     },
     "inputWidgets": {},
     "nuid": "eda62342-d0c8-40fc-990c-a89bd89503a6",
     "showTitle": false,
     "title": ""
    }
   },
   "outputs": [],
   "source": [
    "df2 = spark.read.json(\"dbfs:/FileStore/tables/arquivos_curso/pnsb.json\")\n",
    "display(df2)"
   ]
  },
  {
   "cell_type": "code",
   "execution_count": 0,
   "metadata": {
    "application/vnd.databricks.v1+cell": {
     "cellMetadata": {
      "byteLimit": 2048000,
      "rowLimit": 10000
     },
     "inputWidgets": {},
     "nuid": "b134c517-bf7b-4399-86eb-830adc6623a9",
     "showTitle": false,
     "title": ""
    }
   },
   "outputs": [],
   "source": [
    "df1 = df1.withColumnRenamed(\"V\",\"valor\") \\\n",
    "            #.withColumnRenamed(\"D1N\", \"regiao\")\\\n",
    "            #.withColumnRenamed(\"D2C\",\"cod_variavel\") \\\n",
    "            #.withColumnRenamed(\"D2N\", \"variavel\") \\\n",
    "            #.withColumnRenamed(\"D4C\",\"cod_doenca\") \\\n",
    "            #.withColumnRenamed(\"D4N\", \"doenca\") \\\n",
    "            #.withColumnRenamed(\"MC\",\"cod_medida\") \\\n",
    "            #.withColumnRenamed(\"MN\", \"medida\") \\\n",
    "            #.withColumnRenamed(\"NC\",\"cod_nivel_territorial\") \\\n",
    "            #.withColumnRenamed(\"NN\", \"nivel territorial\") #\\\n",
    "            #.withColumn Renamed(\"V\",\"valor\") \\\n",
    "\n",
    "display (df1)"
   ]
  },
  {
   "cell_type": "code",
   "execution_count": 0,
   "metadata": {
    "application/vnd.databricks.v1+cell": {
     "cellMetadata": {
      "byteLimit": 2048000,
      "rowLimit": 10000
     },
     "inputWidgets": {},
     "nuid": "5ee37479-ede8-4c3b-87f7-6b33a8f4f6ba",
     "showTitle": false,
     "title": ""
    }
   },
   "outputs": [],
   "source": [
    "df1 = df1.filter(df1.valor != 'Valor')\n",
    "display(df1)"
   ]
  },
  {
   "cell_type": "code",
   "execution_count": 0,
   "metadata": {
    "application/vnd.databricks.v1+cell": {
     "cellMetadata": {
      "byteLimit": 2048000,
      "rowLimit": 10000
     },
     "inputWidgets": {},
     "nuid": "2099d8cb-bd9c-4d6d-8f19-0c6aaedef9ae",
     "showTitle": false,
     "title": ""
    }
   },
   "outputs": [],
   "source": [
    "df1.printSchema()"
   ]
  },
  {
   "cell_type": "code",
   "execution_count": 0,
   "metadata": {
    "application/vnd.databricks.v1+cell": {
     "cellMetadata": {
      "byteLimit": 2048000,
      "rowLimit": 10000
     },
     "inputWidgets": {},
     "nuid": "122c2741-69ee-4a5d-b610-fb0466c9a6d6",
     "showTitle": false,
     "title": ""
    }
   },
   "outputs": [],
   "source": [
    "from pyspark.sql.functions import col\n",
    "from pyspark.sql.types import IntegerType"
   ]
  },
  {
   "cell_type": "code",
   "execution_count": 0,
   "metadata": {
    "application/vnd.databricks.v1+cell": {
     "cellMetadata": {
      "byteLimit": 2048000,
      "rowLimit": 10000
     },
     "inputWidgets": {},
     "nuid": "25e30398-8683-411f-9957-d04ef830cbc0",
     "showTitle": false,
     "title": ""
    }
   },
   "outputs": [],
   "source": [
    "\n",
    "\n",
    "df1_new = df1.withColumn (\"cod_regiao\", col(\"cod_regiao\").cast (IntegerType())), \n",
    "                    .withColumn(\"cod_variavel\", col(\"cod_variavel\").cast (Integer Type())), \n",
    "                    df1.withColumn(\"cod_ano\", col(\"cod_ano\").cast (IntegerType())) ,\n",
    "                    df1.withColumn(\"ano\", col(\"ano\").cast (IntegerType())), \n",
    "                    df1.withColumn(\"cod_doenca\", col(\"cod_doenca\").cast (IntegerType())) ,\n",
    "                    df1.withColumn(\"cod_medida\", col(\"cod_medida\").cast (IntegerType())), Ativar o Windows\n",
    "                    df1.withColumn(\"cod_nivel_territorial\", col(\"cod_nivel_territorial\").cast (IntegerType())) ,\n",
    "                    df1.withColumn(\"valor\", col(\"valor\").cast (IntegerType()))"
   ]
  },
  {
   "cell_type": "code",
   "execution_count": 0,
   "metadata": {
    "application/vnd.databricks.v1+cell": {
     "cellMetadata": {
      "byteLimit": 2048000,
      "rowLimit": 10000
     },
     "inputWidgets": {},
     "nuid": "de6d2472-7f42-46d9-9364-00309b4ebbe9",
     "showTitle": false,
     "title": ""
    }
   },
   "outputs": [],
   "source": [
    "from pyspark.sql.functions import col\n",
    "from pyspark.sql.types import IntegerType\n",
    "\n",
    "df2_new = df1.withColumn (\"cod_regiao\", col(\"cod_regiao\").cast (IntegerType())) \\\n",
    "              .withColumn(\"cod_variavel\", col(\"cod_variavel\").cast (Integer Type())) \\\n",
    "              .withColumn(\"cod_ano\", col(\"cod_ano\").cast (IntegerType()))\\\n",
    "                .withColumn(\"ano\", col(\"ano\").cast (IntegerType())) \\\n",
    "                .withColumn(\"cod_doenca\", col(\"cod_doenca\").cast (IntegerType())) \\\n",
    "                .withColumn(\"cod_medida\", col(\"cod_medida\").cast (IntegerType()))Ativar \\o Windows\n",
    "                .withColumn(\"cod_nivel_territorial\", col(\"cod_nivel_territorial\").cast (IntegerType()))\\\n",
    "                .withColumn(\"valor\", col(\"valor\").cast (IntegerType()))"
   ]
  },
  {
   "cell_type": "markdown",
   "metadata": {
    "application/vnd.databricks.v1+cell": {
     "cellMetadata": {},
     "inputWidgets": {},
     "nuid": "6ee7c471-400c-429a-b1ac-e9d93c16e085",
     "showTitle": false,
     "title": ""
    }
   },
   "source": [
    "\n",
    "## Escrevendo um arquivo JSON"
   ]
  },
  {
   "cell_type": "code",
   "execution_count": 0,
   "metadata": {
    "application/vnd.databricks.v1+cell": {
     "cellMetadata": {},
     "inputWidgets": {},
     "nuid": "aa24124d-2728-43e0-b98a-c8633d2dd01b",
     "showTitle": false,
     "title": ""
    }
   },
   "outputs": [],
   "source": [
    "display(dbutils.fs.ls(\"/FileStore/tables/arquivos_curso\"))"
   ]
  },
  {
   "cell_type": "code",
   "execution_count": 0,
   "metadata": {
    "application/vnd.databricks.v1+cell": {
     "cellMetadata": {},
     "inputWidgets": {},
     "nuid": "269eae51-089d-4e4b-87e4-63a8a956e8b0",
     "showTitle": false,
     "title": ""
    }
   },
   "outputs": [],
   "source": [
    "df_new.write \\\n",
    "    .option(\"compression\", \"gzip\") \\\n",
    "    .mode(\"overwrite\") \\\n",
    "    .format(\"json\") \\\n",
    "    .save(\"/FileStore/tables/arquivos_curso/json_gzip)\""
   ]
  },
  {
   "cell_type": "code",
   "execution_count": 0,
   "metadata": {
    "application/vnd.databricks.v1+cell": {
     "cellMetadata": {},
     "inputWidgets": {},
     "nuid": "aab362fd-3d77-47fe-9853-3b0622a13970",
     "showTitle": false,
     "title": ""
    }
   },
   "outputs": [],
   "source": [
    "display(dbutils.fs.ls(\"/FileStore/tables/arquivos_curso/json_gzip\"))"
   ]
  },
  {
   "cell_type": "code",
   "execution_count": 0,
   "metadata": {
    "application/vnd.databricks.v1+cell": {
     "cellMetadata": {},
     "inputWidgets": {},
     "nuid": "5f1869c5-f285-4633-ad7c-874f41450773",
     "showTitle": false,
     "title": ""
    }
   },
   "outputs": [],
   "source": [
    "df = spark.read \\\n",
    "        .option(\"compression\", \"gzip\") \\\n",
    "        .json(\"/FileStore/tables/arquivos_curso/json_gzip/\")\n",
    "\n",
    "display(df)"
   ]
  },
  {
   "cell_type": "code",
   "execution_count": 0,
   "metadata": {
    "application/vnd.databricks.v1+cell": {
     "cellMetadata": {},
     "inputWidgets": {},
     "nuid": "6468ab90-62f5-4fac-b7fc-d907b7877230",
     "showTitle": false,
     "title": ""
    }
   },
   "outputs": [],
   "source": [
    "df.write \\\n",
    "    .option(\"sep\", \",\") \\\n",
    "    .format(\"csv\") \\\n",
    "    .save(\"/FileStore/tables/arquivos_curso/pnsb_csv/\")"
   ]
  },
  {
   "cell_type": "code",
   "execution_count": 0,
   "metadata": {
    "application/vnd.databricks.v1+cell": {
     "cellMetadata": {},
     "inputWidgets": {},
     "nuid": "5f51fe0a-f849-4ac5-836a-da396acbe937",
     "showTitle": false,
     "title": ""
    }
   },
   "outputs": [],
   "source": [
    "display(dbutils.fs.ls(\"/FileStore/tables/arquivos_curso/pnsb_csv\"))"
   ]
  },
  {
   "cell_type": "code",
   "execution_count": 0,
   "metadata": {
    "application/vnd.databricks.v1+cell": {
     "cellMetadata": {},
     "inputWidgets": {},
     "nuid": "84aa4e9f-8f8a-4835-b838-8472eb6f934b",
     "showTitle": false,
     "title": ""
    }
   },
   "outputs": [],
   "source": [
    "def salvando_arquivo_comprimido_json(dataframe):\n",
    "\n",
    "  compressoes = [\"none\", \"bzip2\", \"gzip\", \"lz4\", \"snappy\", \"deflate\"]\n",
    "  caminho_padrao = \"/FileStore/tables/arquivos_curso/desafio/json_\"\n",
    "\n",
    "  for tipo_compressao in compressoes:\n",
    "    dataframe.write\\\n",
    "      .option(\"compression\", tipo_compressao)\\\n",
    "      .mode(\"overwrite\") \\\n",
    "      .format(\"json\") \\\n",
    "      .save(caminho_padrao + tipo_compressao)\n",
    "\n",
    "    display(dbutils.fs.ls(caminho_padrao + tipo_compressao))\n"
   ]
  },
  {
   "cell_type": "code",
   "execution_count": 0,
   "metadata": {
    "application/vnd.databricks.v1+cell": {
     "cellMetadata": {},
     "inputWidgets": {},
     "nuid": "428302c1-a940-4b64-9e4f-4cafb70ec91c",
     "showTitle": false,
     "title": ""
    }
   },
   "outputs": [],
   "source": [
    "salvando_arquivo_comprimido_json(df)"
   ]
  },
  {
   "cell_type": "markdown",
   "metadata": {
    "application/vnd.databricks.v1+cell": {
     "cellMetadata": {
      "byteLimit": 2048000,
      "rowLimit": 10000
     },
     "inputWidgets": {},
     "nuid": "e67a8dfe-ee9d-43e5-a3a6-c49380b1f2b3",
     "showTitle": false,
     "title": ""
    }
   },
   "source": [
    "\n",
    "#Lendo um arquivo em CSV"
   ]
  },
  {
   "cell_type": "code",
   "execution_count": 0,
   "metadata": {
    "application/vnd.databricks.v1+cell": {
     "cellMetadata": {},
     "inputWidgets": {},
     "nuid": "14bc2bc9-7f88-4cfe-970a-659e06a3a937",
     "showTitle": false,
     "title": ""
    }
   },
   "outputs": [],
   "source": [
    "df_csv = spark.read.csv('/FileStore/tables/arquivos_curso/pnsb_csv')\n",
    "display(df_csv)"
   ]
  },
  {
   "cell_type": "code",
   "execution_count": 0,
   "metadata": {
    "application/vnd.databricks.v1+cell": {
     "cellMetadata": {},
     "inputWidgets": {},
     "nuid": "fedf6ed9-0373-4c18-81fa-824c732a1c4e",
     "showTitle": false,
     "title": ""
    }
   },
   "outputs": [],
   "source": [
    "df.write \\\n",
    "    .option(\"sep\", \",\") \\\n",
    "    .option(\"header\", True) \\\n",
    "    .mode(\"overwrite\") \\\n",
    "    .format(\"csv\") \\\n",
    "    .save(\"/FileStore/tables/arquivos_curso/pnsb_csv/\")"
   ]
  },
  {
   "cell_type": "code",
   "execution_count": 0,
   "metadata": {
    "application/vnd.databricks.v1+cell": {
     "cellMetadata": {},
     "inputWidgets": {},
     "nuid": "5581f396-aa88-4d3c-b152-89564e6918ca",
     "showTitle": false,
     "title": ""
    }
   },
   "outputs": [],
   "source": [
    "df_csv = spark.read.csv('/FileStore/tables/arquivos_curso/pnsb_csv')\n",
    "display(df_csv)\n"
   ]
  },
  {
   "cell_type": "code",
   "execution_count": 0,
   "metadata": {
    "application/vnd.databricks.v1+cell": {
     "cellMetadata": {},
     "inputWidgets": {},
     "nuid": "2a5443bb-1c48-436c-93ff-84a79efb9157",
     "showTitle": false,
     "title": ""
    }
   },
   "outputs": [],
   "source": [
    "df_csv = spark.read.csv('/FileStore/tables/arquivos_curso/pnsb_csv', header=True)\n",
    "display(df_csv)"
   ]
  },
  {
   "cell_type": "code",
   "execution_count": 0,
   "metadata": {
    "application/vnd.databricks.v1+cell": {
     "cellMetadata": {},
     "inputWidgets": {},
     "nuid": "4e13015c-60f5-4b87-923b-5807211f17ac",
     "showTitle": false,
     "title": ""
    }
   },
   "outputs": [],
   "source": [
    "df_csv.printSchema()"
   ]
  },
  {
   "cell_type": "code",
   "execution_count": 0,
   "metadata": {
    "application/vnd.databricks.v1+cell": {
     "cellMetadata": {},
     "inputWidgets": {},
     "nuid": "0f8ff2a9-72ed-46d1-9b6d-b55399ffc33b",
     "showTitle": false,
     "title": ""
    }
   },
   "outputs": [],
   "source": [
    "df_csv = spark.read.csv('/FileStore/tables/arquivos_curso/pnsb_csv', header=True, inferSchema=True)\n",
    "display(df_csv)"
   ]
  },
  {
   "cell_type": "code",
   "execution_count": 0,
   "metadata": {
    "application/vnd.databricks.v1+cell": {
     "cellMetadata": {},
     "inputWidgets": {},
     "nuid": "e4a41b3c-15f1-4e26-818d-fe173e96284d",
     "showTitle": false,
     "title": ""
    }
   },
   "outputs": [],
   "source": [
    "df_csv.printSchema()"
   ]
  },
  {
   "cell_type": "markdown",
   "metadata": {
    "application/vnd.databricks.v1+cell": {
     "cellMetadata": {},
     "inputWidgets": {},
     "nuid": "ae02a1c0-b772-4998-8aeb-343772b69c9f",
     "showTitle": false,
     "title": ""
    }
   },
   "source": [
    "\n",
    "## Escrevendo arquivo CSV com compressão"
   ]
  },
  {
   "cell_type": "code",
   "execution_count": 0,
   "metadata": {
    "application/vnd.databricks.v1+cell": {
     "cellMetadata": {},
     "inputWidgets": {},
     "nuid": "6daefad4-d624-476f-8395-02a9e9e22c13",
     "showTitle": false,
     "title": ""
    }
   },
   "outputs": [],
   "source": [
    "df_csv.write \\\n",
    "            .option(\"compression\", \"gzip\") \\\n",
    "            .option(\"header\", \"true\") \\\n",
    "            .option(\"sep\", \",\") \\\n",
    "            .format(\"csv\") \\\n",
    "            .save(\"/FileStore/tables/arquivos_curso/csv_gzip/\")"
   ]
  },
  {
   "cell_type": "code",
   "execution_count": 0,
   "metadata": {
    "application/vnd.databricks.v1+cell": {
     "cellMetadata": {},
     "inputWidgets": {},
     "nuid": "057a5de8-3626-43cb-a300-2132a5fdff22",
     "showTitle": false,
     "title": ""
    }
   },
   "outputs": [],
   "source": [
    "display(dbutils.fs.ls(\"/FileStore/tables/arquivos_curso/csv_gzip\"))"
   ]
  },
  {
   "cell_type": "code",
   "execution_count": 0,
   "metadata": {
    "application/vnd.databricks.v1+cell": {
     "cellMetadata": {},
     "inputWidgets": {},
     "nuid": "a356bfc1-be1f-4382-8273-5b5cc001c687",
     "showTitle": false,
     "title": ""
    }
   },
   "outputs": [],
   "source": [
    "display(dbutils.fs.ls(\"/FileStore/tables/arquivos_curso/pnsb_csv\"))"
   ]
  },
  {
   "cell_type": "code",
   "execution_count": 0,
   "metadata": {
    "application/vnd.databricks.v1+cell": {
     "cellMetadata": {},
     "inputWidgets": {},
     "nuid": "dd8cd5f7-df03-47c8-8085-0f4c20cfc84d",
     "showTitle": false,
     "title": ""
    }
   },
   "outputs": [],
   "source": [
    "df = spark.read \\\n",
    "            .option(\"compression\", \"gzip\") \\\n",
    "            .option(\"header\", \"true\") \\\n",
    "            .option(\"inferSchema\", \"true\") \\\n",
    "            .option(\"sep\", \",\") \\\n",
    "            .csv(\"/FileStore/tables/arquivos_curso/csv_gzip\")\n",
    "\n",
    "display(df)"
   ]
  },
  {
   "cell_type": "markdown",
   "metadata": {
    "application/vnd.databricks.v1+cell": {
     "cellMetadata": {},
     "inputWidgets": {},
     "nuid": "5a1d6262-bdaa-475f-a844-ab06029eb202",
     "showTitle": false,
     "title": ""
    }
   },
   "source": [
    "\n",
    "## Salvando o Dataframe em TXT\n",
    "`"
   ]
  },
  {
   "cell_type": "code",
   "execution_count": 0,
   "metadata": {
    "application/vnd.databricks.v1+cell": {
     "cellMetadata": {},
     "inputWidgets": {},
     "nuid": "10f5f103-3d20-4eee-8b88-e01e3d3f21c1",
     "showTitle": false,
     "title": ""
    }
   },
   "outputs": [],
   "source": [
    "df = df.na.fill(value=0, subset=[\"valor\"])\n",
    "display(df)"
   ]
  },
  {
   "cell_type": "code",
   "execution_count": 0,
   "metadata": {
    "application/vnd.databricks.v1+cell": {
     "cellMetadata": {},
     "inputWidgets": {},
     "nuid": "209f608d-386d-43c8-8469-e556a9b3d441",
     "showTitle": false,
     "title": ""
    }
   },
   "outputs": [],
   "source": [
    "df.write.text(\"/FileStore/tables/arquivos_curso/txt/\")"
   ]
  },
  {
   "cell_type": "code",
   "execution_count": 0,
   "metadata": {
    "application/vnd.databricks.v1+cell": {
     "cellMetadata": {},
     "inputWidgets": {},
     "nuid": "cea00857-7627-4599-adcf-a6d7c734ea36",
     "showTitle": false,
     "title": ""
    }
   },
   "outputs": [],
   "source": [
    "from pyspark.sql.functions import concat_ws\n",
    "\n",
    "df_uma_coluna = df.select(concat_ws(\"|\", *df.columns_.alias('dados'))\n",
    "display(df_uma_coluna)"
   ]
  },
  {
   "cell_type": "code",
   "execution_count": 0,
   "metadata": {
    "application/vnd.databricks.v1+cell": {
     "cellMetadata": {},
     "inputWidgets": {},
     "nuid": "b45feba1-57bd-4b7a-be2f-3b7279cc020a",
     "showTitle": false,
     "title": ""
    }
   },
   "outputs": [],
   "source": [
    "df_uma_coluna.write \\\n",
    "            .format(\"text\") \\\n",
    "            .mode(\"overwrite\") \\\n",
    "            .save(\"/FileStore/tables/arquivos_curso/txt/\")"
   ]
  },
  {
   "cell_type": "code",
   "execution_count": 0,
   "metadata": {
    "application/vnd.databricks.v1+cell": {
     "cellMetadata": {},
     "inputWidgets": {},
     "nuid": "f2a60556-60cd-46db-9da6-1f08ee139ad5",
     "showTitle": false,
     "title": ""
    }
   },
   "outputs": [],
   "source": [
    "display(dbutils.fs.ls(\"/FileStore/tables/arquivos_curso/txt/\"))"
   ]
  },
  {
   "cell_type": "code",
   "execution_count": 0,
   "metadata": {
    "application/vnd.databricks.v1+cell": {
     "cellMetadata": {},
     "inputWidgets": {},
     "nuid": "eb5cbf61-ea26-488a-ba47-b85541f8bb1f",
     "showTitle": false,
     "title": ""
    }
   },
   "outputs": [],
   "source": [
    "df_text = spark.read.format(\"text\") \\\n",
    "            .load(\"/FileStore/tables/arquivos_curso/txt/\")\n",
    "\n",
    "display(df_text)"
   ]
  },
  {
   "cell_type": "code",
   "execution_count": 0,
   "metadata": {
    "application/vnd.databricks.v1+cell": {
     "cellMetadata": {},
     "inputWidgets": {},
     "nuid": "9fc0af73-8c3f-486c-bdec-d51538cf8853",
     "showTitle": false,
     "title": ""
    }
   },
   "outputs": [],
   "source": [
    "df_text = spark.read \\\n",
    "        .option(\"header\", \"false\") \\\n",
    "        .option(\"delimiter\", \"|\") \\\n",
    "        .option(\"inferSchema\", \"true\") \\\n",
    "        .format(\"csv\") \\\n",
    "        .load(\"/FileStore/tables/arquivos_curso/txt/\")\n",
    "\n",
    "display(df_text)"
   ]
  },
  {
   "cell_type": "code",
   "execution_count": 0,
   "metadata": {
    "application/vnd.databricks.v1+cell": {
     "cellMetadata": {},
     "inputWidgets": {},
     "nuid": "8001f877-4f51-41c5-b4e4-a39b472420f4",
     "showTitle": false,
     "title": ""
    }
   },
   "outputs": [],
   "source": [
    "df_text_2 = df_text.withColumnRenamed (\"_c0\", \"ano\") \\\n",
    "                .withColumnRenamed(\"_c1\",\"cod_ano\") \\\n",
    "                .withColumnRenamed(\"_c2\",\"cod_doenca\") \\ \n",
    "                .withColumnRenamed(\"_c3\",\"cod_medida\") \\\n",
    "                .withColumnRenamed(\"_c4\",\"cod_nivel_territorial\") \\\n",
    "                .withColumnRenamed(\"_c5\",\"cod_regiao\")\\\n",
    "                .withColumnRenamed(\"_c6\", \"cod_variavel\") \\\n",
    "                .withColumnRenamed(\"_c7\", \"doenca\") \\\n",
    "                .withColumnRenamed(\"_c8\", \"medida\") \\\n",
    "                .withColumnRenamed(\"_c9\", \"nivel_territorial\") \\\n",
    "                .withColumnRenamed(\"_c10\", \"regiao\") \\ \n",
    "                .withColumnRenamed(\"_c11\",\"valor\") \\\n",
    "                .withColumnRenamed(\"_c12\",\"variavel\")\n",
    "\n",
    "display (df_text_2)"
   ]
  },
  {
   "cell_type": "markdown",
   "metadata": {
    "application/vnd.databricks.v1+cell": {
     "cellMetadata": {},
     "inputWidgets": {},
     "nuid": "395de7c7-7a15-4fb1-bb5a-ce0974c3135e",
     "showTitle": false,
     "title": ""
    }
   },
   "source": [
    "\n",
    "## Salvando o arquivo TXT comprimido"
   ]
  },
  {
   "cell_type": "code",
   "execution_count": 0,
   "metadata": {
    "application/vnd.databricks.v1+cell": {
     "cellMetadata": {},
     "inputWidgets": {},
     "nuid": "aab34ed9-b67d-451f-8235-fd9d38856017",
     "showTitle": false,
     "title": ""
    }
   },
   "outputs": [],
   "source": [
    "df_text_2.write \\\n",
    "    .mode(\"overwrite\") \\\n",
    "    .option(\"compression\", \"gzip\") \\\n",
    "    .format(\"text\") \\\n",
    "    .save(\"/FileStore/tables/arquivos_curso/txt_gzip/\")"
   ]
  },
  {
   "cell_type": "code",
   "execution_count": 0,
   "metadata": {
    "application/vnd.databricks.v1+cell": {
     "cellMetadata": {},
     "inputWidgets": {},
     "nuid": "d521e29e-8899-42ff-a432-c4e31fcef09e",
     "showTitle": false,
     "title": ""
    }
   },
   "outputs": [],
   "source": [
    "df_uma_coluna.write \\\n",
    "    .mode(\"overwrite\") \\\n",
    "    .option(\"compression\", \"gzip\") \\\n",
    "    .format(\"text\") \\\n",
    "    .save(\"dbfs:/FileStore/tables/arquivos_curso/txt_gzip/\")"
   ]
  },
  {
   "cell_type": "code",
   "execution_count": 0,
   "metadata": {
    "application/vnd.databricks.v1+cell": {
     "cellMetadata": {},
     "inputWidgets": {},
     "nuid": "09983eaf-2ddb-4315-b341-e20645f59a09",
     "showTitle": false,
     "title": ""
    }
   },
   "outputs": [],
   "source": [
    "display(dbutils.fs.ls(\"/FileStore/tables/arquivos_curso/txt_gzip/\"))"
   ]
  },
  {
   "cell_type": "code",
   "execution_count": 0,
   "metadata": {
    "application/vnd.databricks.v1+cell": {
     "cellMetadata": {},
     "inputWidgets": {},
     "nuid": "e8ee6ea7-5003-493e-a07f-5ade0f3f2f02",
     "showTitle": false,
     "title": ""
    }
   },
   "outputs": [],
   "source": [
    "display(dbutils.fs.ls(\"/FileStore/tables/arquivos_curso/txt/\"))"
   ]
  },
  {
   "cell_type": "code",
   "execution_count": 0,
   "metadata": {
    "application/vnd.databricks.v1+cell": {
     "cellMetadata": {},
     "inputWidgets": {},
     "nuid": "99e0a2e0-a0bd-413f-b023-014a432f1621",
     "showTitle": false,
     "title": ""
    }
   },
   "outputs": [],
   "source": [
    "df = spark.read \\\n",
    "     .option(\"compression\", \"gzip\") \\\n",
    "   .option(\"inferSchema\", \"true\") \\\n",
    "   .option(\"sep\", \"|\") \\\n",
    "   .csv(\"/FileStore/tables/arquivos_curso/txt_gzip/\")\n",
    "\n",
    "display(df)"
   ]
  },
  {
   "cell_type": "code",
   "execution_count": 0,
   "metadata": {
    "application/vnd.databricks.v1+cell": {
     "cellMetadata": {},
     "inputWidgets": {},
     "nuid": "61ec6d33-1d31-47f8-81ae-c69c0a5464ad",
     "showTitle": false,
     "title": ""
    }
   },
   "outputs": [],
   "source": [
    "df_renomeado = df_text.withColumnRenamed (\"_c0\", \"ano\") \\\n",
    "  .withColumnRenamed(\"_c1\",\"cod_ano\") \\\n",
    "  .withColumnRenamed(\"_c2\",\"cod_doenca\") \\ \n",
    "  .withColumnRenamed(\"_c3\",\"cod_medida\") \\\n",
    "  .withColumnRenamed(\"_c4\",\"cod_nivel_territorial\") \\\n",
    "  .withColumnRenamed(\"_c5\",\"cod_regiao\")\\\n",
    "  .withColumnRenamed(\"_c6\", \"cod_variavel\") \\\n",
    "  .withColumnRenamed(\"_c7\", \"doenca\") \\\n",
    "  .withColumnRenamed(\"_c8\", \"medida\") \\\n",
    "  .withColumnRenamed(\"_c9\", \"nivel_territorial\") \\\n",
    "  .withColumnRenamed(\"_c10\", \"regiao\") \\ \n",
    "  .withColumnRenamed(\"_c11\",\"valor\") \\\n",
    "  .withColumnRenamed(\"_c12\",\"variavel\")\n",
    "\n",
    "display (df_renomeado)"
   ]
  },
  {
   "cell_type": "code",
   "execution_count": 0,
   "metadata": {
    "application/vnd.databricks.v1+cell": {
     "cellMetadata": {},
     "inputWidgets": {},
     "nuid": "746b0781-5415-496f-ba27-6dad6a26370f",
     "showTitle": false,
     "title": ""
    }
   },
   "outputs": [],
   "source": [
    "df_renomeado.write \\\n",
    "    .mode(\"overwrite\") \\\n",
    "    .format('avro') \\\n",
    "    .save(\"/FileStore/tables/arquivos_curso/avro/\")"
   ]
  },
  {
   "cell_type": "code",
   "execution_count": 0,
   "metadata": {
    "application/vnd.databricks.v1+cell": {
     "cellMetadata": {},
     "inputWidgets": {},
     "nuid": "d555b603-2f19-4a73-a26f-53917e2c3343",
     "showTitle": false,
     "title": ""
    }
   },
   "outputs": [],
   "source": [
    "display(dbutils.fs.ls(\"/FileStore/tables/arquivos_curso/avro/\"))"
   ]
  },
  {
   "cell_type": "markdown",
   "metadata": {
    "application/vnd.databricks.v1+cell": {
     "cellMetadata": {},
     "inputWidgets": {},
     "nuid": "62ef26e1-341e-4a3d-9ab8-b44181d311fd",
     "showTitle": false,
     "title": ""
    }
   },
   "source": [
    "\n",
    "## Lendo um arquivo no formato AVRO"
   ]
  },
  {
   "cell_type": "code",
   "execution_count": 0,
   "metadata": {
    "application/vnd.databricks.v1+cell": {
     "cellMetadata": {},
     "inputWidgets": {},
     "nuid": "71febd9f-0a56-4843-965c-0c722036c927",
     "showTitle": false,
     "title": ""
    }
   },
   "outputs": [],
   "source": [
    "df_avro = spark.read \\\n",
    "    .format(\"avro\") \\\n",
    "    .load(\"/FileStore/tables/arquivos_curso/avro/\")\n",
    "\n",
    "display(df_avro)"
   ]
  },
  {
   "cell_type": "code",
   "execution_count": 0,
   "metadata": {
    "application/vnd.databricks.v1+cell": {
     "cellMetadata": {},
     "inputWidgets": {},
     "nuid": "7e9b1827-a2a0-4c5c-8b78-bdf1d47ee5c0",
     "showTitle": false,
     "title": ""
    }
   },
   "outputs": [],
   "source": [
    "df_avro = spark.read \\\n",
    "    .format(\"avro\") \\\n",
    "    .load(\"/FileStore/tables/arquivos_curso/avro/\", pathGlobFilter=\"*.avro\")\n",
    "\n",
    "display(df_avro)"
   ]
  },
  {
   "cell_type": "code",
   "execution_count": 0,
   "metadata": {
    "application/vnd.databricks.v1+cell": {
     "cellMetadata": {},
     "inputWidgets": {},
     "nuid": "dc9739b0-76fa-4c05-8366-b3735650e3bd",
     "showTitle": false,
     "title": ""
    }
   },
   "outputs": [],
   "source": [
    "df_avro = spark.read \\\n",
    "    .format(\"avro\") \\\n",
    "    .load(\"/FileStore/tables/arquivos_curso/avro/\", pathGlobFilter=\"*.avro\")\n",
    "\n",
    "display(df_avro)"
   ]
  },
  {
   "cell_type": "code",
   "execution_count": 0,
   "metadata": {
    "application/vnd.databricks.v1+cell": {
     "cellMetadata": {},
     "inputWidgets": {},
     "nuid": "b482ed1b-3327-403b-b943-782c1dbc7454",
     "showTitle": false,
     "title": ""
    }
   },
   "outputs": [],
   "source": [
    "df_avro = spark.read \\\n",
    "    .format(\"avro\") \\\n",
    "    .load(\"/FileStore/tables/arquivos_curso/avro/\", pathGlobFilter=\"*.avro\")\n",
    "\n",
    "display(df_avro)"
   ]
  },
  {
   "cell_type": "markdown",
   "metadata": {
    "application/vnd.databricks.v1+cell": {
     "cellMetadata": {},
     "inputWidgets": {},
     "nuid": "d6dc5ced-a77e-4736-97bd-1698410189c0",
     "showTitle": false,
     "title": ""
    }
   },
   "source": [
    "\n",
    "## Escrevendo o arquivo AVRO com compressão"
   ]
  },
  {
   "cell_type": "code",
   "execution_count": 0,
   "metadata": {
    "application/vnd.databricks.v1+cell": {
     "cellMetadata": {},
     "inputWidgets": {},
     "nuid": "1e467170-aa97-4558-a1bb-6656a0606160",
     "showTitle": false,
     "title": ""
    }
   },
   "outputs": [],
   "source": [
    "df_avro.write \\\n",
    "    .mode(\"overwrite\") \\\n",
    "    .option(\"compression\", \"deflate\") \\\n",
    "    .format('avro') \\\n",
    "    .save(\"/FileStore/tables/arquivos_curso/avro_deflate\")"
   ]
  },
  {
   "cell_type": "code",
   "execution_count": 0,
   "metadata": {
    "application/vnd.databricks.v1+cell": {
     "cellMetadata": {},
     "inputWidgets": {},
     "nuid": "795d1a7b-ff57-4a62-a746-678316a026b2",
     "showTitle": false,
     "title": ""
    }
   },
   "outputs": [],
   "source": [
    "display(dbutils.fs.ls(\"/FileStore/tables/arquivos_curso/avro_deflate\"))"
   ]
  },
  {
   "cell_type": "code",
   "execution_count": 0,
   "metadata": {
    "application/vnd.databricks.v1+cell": {
     "cellMetadata": {},
     "inputWidgets": {},
     "nuid": "94affa43-3cef-43c4-a8d9-be15868c1f09",
     "showTitle": false,
     "title": ""
    }
   },
   "outputs": [],
   "source": [
    "display(dbutils.fs.ls(\"/FileStore/tables/arquivos_curso/avro\"))"
   ]
  },
  {
   "cell_type": "code",
   "execution_count": 0,
   "metadata": {
    "application/vnd.databricks.v1+cell": {
     "cellMetadata": {},
     "inputWidgets": {},
     "nuid": "5cb87647-b072-493b-a99b-7fb67a4f631d",
     "showTitle": false,
     "title": ""
    }
   },
   "outputs": [],
   "source": [
    "spark.conf.set(\"spark.sql.avro.compression.codec\", \"deflate\")"
   ]
  },
  {
   "cell_type": "code",
   "execution_count": 0,
   "metadata": {
    "application/vnd.databricks.v1+cell": {
     "cellMetadata": {},
     "inputWidgets": {},
     "nuid": "89fc6375-b494-4f91-be76-508dc5b79c55",
     "showTitle": false,
     "title": ""
    }
   },
   "outputs": [],
   "source": [
    "df_avro.write \\\n",
    "    .mode(\"overwrite\") \\\n",
    "    .format('avro') \\\n",
    "    .save(\"/FileStore/tables/arquivos_curso/avro_deflate2\")"
   ]
  },
  {
   "cell_type": "code",
   "execution_count": 0,
   "metadata": {
    "application/vnd.databricks.v1+cell": {
     "cellMetadata": {},
     "inputWidgets": {},
     "nuid": "80e0fb56-fd45-4f32-97f1-e64184de5486",
     "showTitle": false,
     "title": ""
    }
   },
   "outputs": [],
   "source": [
    "display(dbutils.fs.ls(\"/FileStore/tables/arquivos_curso/avro_deflate2\"))"
   ]
  },
  {
   "cell_type": "code",
   "execution_count": 0,
   "metadata": {
    "application/vnd.databricks.v1+cell": {
     "cellMetadata": {},
     "inputWidgets": {},
     "nuid": "7e5e9109-50e8-4936-aa44-30c6e3834346",
     "showTitle": false,
     "title": ""
    }
   },
   "outputs": [],
   "source": [
    "spark.conf.set(\"spark.sql.avro.deflate.level\", \"8\")"
   ]
  },
  {
   "cell_type": "code",
   "execution_count": 0,
   "metadata": {
    "application/vnd.databricks.v1+cell": {
     "cellMetadata": {},
     "inputWidgets": {},
     "nuid": "d7df32c3-695a-463e-9552-b2289f1e7ad3",
     "showTitle": false,
     "title": ""
    }
   },
   "outputs": [],
   "source": [
    "df_avro.write \\\n",
    "    .mode(\"overwrite\") \\\n",
    "    .format('avro') \\\n",
    "    .save(\"/FileStore/tables/arquivos_curso/avro_deflate2\")"
   ]
  },
  {
   "cell_type": "code",
   "execution_count": 0,
   "metadata": {
    "application/vnd.databricks.v1+cell": {
     "cellMetadata": {},
     "inputWidgets": {},
     "nuid": "9324c5a5-2861-41f8-8ec5-89d8a5d58455",
     "showTitle": false,
     "title": ""
    }
   },
   "outputs": [],
   "source": [
    "display(dbutils.fs.ls(\"/FileStore/tables/arquivos_curso/avro_deflate2\"))"
   ]
  },
  {
   "cell_type": "code",
   "execution_count": 0,
   "metadata": {
    "application/vnd.databricks.v1+cell": {
     "cellMetadata": {},
     "inputWidgets": {},
     "nuid": "412c5e3f-def9-442f-8f15-c2a4a96c47a9",
     "showTitle": false,
     "title": ""
    }
   },
   "outputs": [],
   "source": [
    "# Esquema Avro para dados de clientes\n",
    "avro_schema = \"\"\"\n",
    "{\n",
    "    \"type\": \"record\",\n",
    "    \"name\": \"Cliente\",\n",
    "    \"fields\": [\n",
    "        {\n",
    "            \"name\": \"nome\",\n",
    "            \"type\": \"string\"\n",
    "        },\n",
    "        {\n",
    "            \"name\": \"endereco\",\n",
    "            \"type\": \"string\"\n",
    "        },\n",
    "        {\n",
    "            \"name\": \"data_nascimento\",\n",
    "            \"type\": \"string\"\n",
    "        },\n",
    "        {\n",
    "            \"name\": \"idade\",\n",
    "            \"type\": \"int\"\n",
    "        }\n",
    "    ]\n",
    "}\n",
    "\"\"\"\n",
    "\n",
    "# Leitura dos dados do arquivo Avro usando o esquema Avro\n",
    "df = spark.read.format(\"avro\")\\\n",
    ".option(\"avroSchema\", avro_schema)\\\n",
    ".load(\"<caminho_arquivo_avro>\")\n",
    "\n",
    "# Exibição dos dados lidos do arquivo Avro\n",
    "display(df)"
   ]
  },
  {
   "cell_type": "markdown",
   "metadata": {
    "application/vnd.databricks.v1+cell": {
     "cellMetadata": {},
     "inputWidgets": {},
     "nuid": "15dded9b-e6f3-4cc7-9c4b-ae5bfcd31365",
     "showTitle": false,
     "title": ""
    }
   },
   "source": [
    "\n",
    "## Lendo e escrevendo arquivos PARQUET"
   ]
  },
  {
   "cell_type": "code",
   "execution_count": 0,
   "metadata": {
    "application/vnd.databricks.v1+cell": {
     "cellMetadata": {},
     "inputWidgets": {},
     "nuid": "114fe8e5-8a8d-40a4-97e8-eaec683e56cd",
     "showTitle": false,
     "title": ""
    }
   },
   "outputs": [],
   "source": [
    "df_avro.write \\\n",
    "        .mode(\"overwrite\") \\\n",
    "        .format('parquet') \\\n",
    "        .save(\"/FileStore/tables/arquivos_curso/parquet\")"
   ]
  },
  {
   "cell_type": "code",
   "execution_count": 0,
   "metadata": {
    "application/vnd.databricks.v1+cell": {
     "cellMetadata": {},
     "inputWidgets": {},
     "nuid": "7c8ba03d-b16b-4c92-a409-43221775fedd",
     "showTitle": false,
     "title": ""
    }
   },
   "outputs": [],
   "source": [
    "display(dbutils.fs.ls(\"/FileStore/tables/arquivos_curso/parquet\"))"
   ]
  },
  {
   "cell_type": "code",
   "execution_count": 0,
   "metadata": {
    "application/vnd.databricks.v1+cell": {
     "cellMetadata": {},
     "inputWidgets": {},
     "nuid": "bc28c9ed-a239-4cfd-8b11-c8d50c5a3ab8",
     "showTitle": false,
     "title": ""
    }
   },
   "outputs": [],
   "source": [
    "df_avro.write \\\n",
    "        .mode(\"overwrite\") \\\n",
    "        .option(\"compression\", \"gzip\") \\\n",
    "        .format('parquet') \\\n",
    "        .save(\"/FileStore/tables/arquivos_curso/parquet_gzip\")"
   ]
  },
  {
   "cell_type": "code",
   "execution_count": 0,
   "metadata": {
    "application/vnd.databricks.v1+cell": {
     "cellMetadata": {},
     "inputWidgets": {},
     "nuid": "5058c6ca-f580-4350-8e59-2fddcdef9f7f",
     "showTitle": false,
     "title": ""
    }
   },
   "outputs": [],
   "source": [
    "display(dbutils.fs.ls(\"/FileStore/tables/arquivos_curso/parquet_gzip\"))"
   ]
  },
  {
   "cell_type": "code",
   "execution_count": 0,
   "metadata": {
    "application/vnd.databricks.v1+cell": {
     "cellMetadata": {},
     "inputWidgets": {},
     "nuid": "47200803-6c15-4f98-88dd-f0be39c0a220",
     "showTitle": false,
     "title": ""
    }
   },
   "outputs": [],
   "source": [
    "df_parquet = spark.read.format(\"parquet\") \\\n",
    "    .load(\"\"/FileStore/tables/arquivos_curso/parquet_gzip\", compression='gzip')\n",
    "\n",
    "display(df_parquet)"
   ]
  },
  {
   "cell_type": "markdown",
   "metadata": {
    "application/vnd.databricks.v1+cell": {
     "cellMetadata": {},
     "inputWidgets": {},
     "nuid": "548ef069-c22b-457c-bff1-60c40ae9f776",
     "showTitle": false,
     "title": ""
    }
   },
   "source": [
    "\n",
    "## Particionamento"
   ]
  },
  {
   "cell_type": "code",
   "execution_count": 0,
   "metadata": {
    "application/vnd.databricks.v1+cell": {
     "cellMetadata": {},
     "inputWidgets": {},
     "nuid": "edc2ff60-ef64-4dca-8cf7-87a2bbca0a93",
     "showTitle": false,
     "title": ""
    }
   },
   "outputs": [],
   "source": [
    "df_parquet.select(\"cod_doenca\").distinct().show()"
   ]
  },
  {
   "cell_type": "code",
   "execution_count": 0,
   "metadata": {
    "application/vnd.databricks.v1+cell": {
     "cellMetadata": {},
     "inputWidgets": {},
     "nuid": "25c44010-899a-4bdd-a8b2-e78906edd195",
     "showTitle": false,
     "title": ""
    }
   },
   "outputs": [],
   "source": [
    "df_parquet.select(\"nivel_territorial\").distinct().show()"
   ]
  },
  {
   "cell_type": "code",
   "execution_count": 0,
   "metadata": {
    "application/vnd.databricks.v1+cell": {
     "cellMetadata": {},
     "inputWidgets": {},
     "nuid": "bb074d72-24a8-44a2-a669-c686a3e1c384",
     "showTitle": false,
     "title": ""
    }
   },
   "outputs": [],
   "source": [
    "df_parquet.write \\\n",
    "    .partitionBy(\"nivel_territorial\") \\\n",
    "    .mode(\"overwrite\") \\\n",
    "    .parquet(\"/FileStore/tables/arquivos_curso/parquet_particionado\")"
   ]
  },
  {
   "cell_type": "code",
   "execution_count": 0,
   "metadata": {
    "application/vnd.databricks.v1+cell": {
     "cellMetadata": {},
     "inputWidgets": {},
     "nuid": "1135465d-e584-445e-ace2-e57b74f49f2c",
     "showTitle": false,
     "title": ""
    }
   },
   "outputs": [],
   "source": [
    "display(dbutils.fs.ls(\"/FileStore/tables/arquivos_curso/parquet_particionado\"))"
   ]
  },
  {
   "cell_type": "code",
   "execution_count": 0,
   "metadata": {
    "application/vnd.databricks.v1+cell": {
     "cellMetadata": {},
     "inputWidgets": {},
     "nuid": "8457ebd9-7bfa-427d-990d-8dbde8099462",
     "showTitle": false,
     "title": ""
    }
   },
   "outputs": [],
   "source": [
    "display(dbutils.fs.ls(\"/FileStore/tables/arquivos_curso/parquet_particionado/nivel_territorial=Brasil\"))"
   ]
  },
  {
   "cell_type": "code",
   "execution_count": 0,
   "metadata": {
    "application/vnd.databricks.v1+cell": {
     "cellMetadata": {},
     "inputWidgets": {},
     "nuid": "5d908188-1fe5-4cf9-a8ee-f9e9c0de0ccf",
     "showTitle": false,
     "title": ""
    }
   },
   "outputs": [],
   "source": [
    "df_parquet.write \\\n",
    "    .partitionBy(\"nivel_territorial\", \"cod_doenca) \\\n",
    "    .mode(\"overwrite\") \\\n",
    "    .parquet(\"/FileStore/tables/arquivos_curso/parquet_multi_particionado\")"
   ]
  },
  {
   "cell_type": "code",
   "execution_count": 0,
   "metadata": {
    "application/vnd.databricks.v1+cell": {
     "cellMetadata": {},
     "inputWidgets": {},
     "nuid": "05baba3d-98ec-47d9-aadf-5d22a401065b",
     "showTitle": false,
     "title": ""
    }
   },
   "outputs": [],
   "source": [
    "display(dbutils.fs.ls(\"/FileStore/tables/arquivos_curso/parquet_multi_particionado\"))"
   ]
  },
  {
   "cell_type": "code",
   "execution_count": 0,
   "metadata": {
    "application/vnd.databricks.v1+cell": {
     "cellMetadata": {},
     "inputWidgets": {},
     "nuid": "1cb72dba-84a4-43e0-a28a-2062486ee10a",
     "showTitle": false,
     "title": ""
    }
   },
   "outputs": [],
   "source": [
    "display(dbutils.fs.ls(\"/FileStore/tables/arquivos_curso/parquet_multi_particionado/nivel_territorial=Grande Região\"))"
   ]
  },
  {
   "cell_type": "code",
   "execution_count": 0,
   "metadata": {
    "application/vnd.databricks.v1+cell": {
     "cellMetadata": {},
     "inputWidgets": {},
     "nuid": "b0b75443-0527-4006-81ea-6d3461fcb6c9",
     "showTitle": false,
     "title": ""
    }
   },
   "outputs": [],
   "source": [
    "df_120943 = spark.read \\\n",
    "    .parquet(/'FileStore/tables/arquivos_curso/parquet_multi_particionado/nivel_territorial=Grande Região/cod_doenca=120943/')\n",
    "\n",
    "display(df_120943)"
   ]
  },
  {
   "cell_type": "code",
   "execution_count": 0,
   "metadata": {
    "application/vnd.databricks.v1+cell": {
     "cellMetadata": {},
     "inputWidgets": {},
     "nuid": "66b09f9e-e66d-4d54-8155-c072406b5986",
     "showTitle": false,
     "title": ""
    }
   },
   "outputs": [],
   "source": [
    "df = spark.read\\\n",
    "    .parquet('FileStore/tables/arquivos_curso/parquet_particionado')\n",
    "\n",
    "display(df)"
   ]
  },
  {
   "cell_type": "markdown",
   "metadata": {
    "application/vnd.databricks.v1+cell": {
     "cellMetadata": {},
     "inputWidgets": {},
     "nuid": "fe0cf9f0-bc7f-4845-b5f0-6e21f92fb7b0",
     "showTitle": false,
     "title": ""
    }
   },
   "source": [
    "\n",
    "## Escrevendo e lendo arquivos ORC"
   ]
  },
  {
   "cell_type": "code",
   "execution_count": 0,
   "metadata": {
    "application/vnd.databricks.v1+cell": {
     "cellMetadata": {},
     "inputWidgets": {},
     "nuid": "32993f87-d98f-4633-b6ec-f0baebae2473",
     "showTitle": false,
     "title": ""
    }
   },
   "outputs": [],
   "source": [
    "df.write \\\n",
    "    .format('orc') \\\n",
    "    .save(\"/FileStore/tables/arquivos_curso/orc\")"
   ]
  },
  {
   "cell_type": "code",
   "execution_count": 0,
   "metadata": {
    "application/vnd.databricks.v1+cell": {
     "cellMetadata": {},
     "inputWidgets": {},
     "nuid": "1d3b5f99-028c-4149-80f4-f9148e318001",
     "showTitle": false,
     "title": ""
    }
   },
   "outputs": [],
   "source": [
    "display(dbutils.fs.ls(\"/FileStore/tables/arquivos_curso/orc\"))"
   ]
  },
  {
   "cell_type": "code",
   "execution_count": 0,
   "metadata": {
    "application/vnd.databricks.v1+cell": {
     "cellMetadata": {},
     "inputWidgets": {},
     "nuid": "ca116625-733c-4601-aa14-73c502f76339",
     "showTitle": false,
     "title": ""
    }
   },
   "outputs": [],
   "source": [
    "df.write.format(\"orc\") \\\n",
    "    .mode(\"overwrite\") \\\n",
    "    .option(\"compression\", \"zlib\") \\\n",
    "    .save(\"/FileStore/tables/arquivos_curso/orc_zlib\""
   ]
  },
  {
   "cell_type": "code",
   "execution_count": 0,
   "metadata": {
    "application/vnd.databricks.v1+cell": {
     "cellMetadata": {},
     "inputWidgets": {},
     "nuid": "43adedc0-b49e-4885-aee4-d80e4a4a175e",
     "showTitle": false,
     "title": ""
    }
   },
   "outputs": [],
   "source": [
    "display(dbutils.fs.ls(\"/FileStore/tables/arquivos_curso/orc_zlib\"))"
   ]
  },
  {
   "cell_type": "code",
   "execution_count": 0,
   "metadata": {
    "application/vnd.databricks.v1+cell": {
     "cellMetadata": {},
     "inputWidgets": {},
     "nuid": "ecfa7f01-ebd9-4b82-b68a-4d67b84cbd23",
     "showTitle": false,
     "title": ""
    }
   },
   "outputs": [],
   "source": [
    "df_orc = spark.read\\\n",
    "    .option(\"compression\", \"zlib\") \\\n",
    "    .format(\"orc\") \\\n",
    "    .load(\"/FileStore/tables/arquivos_curso/orc_zlib\"\n",
    "\n",
    "display(df_orc)"
   ]
  },
  {
   "cell_type": "markdown",
   "metadata": {
    "application/vnd.databricks.v1+cell": {
     "cellMetadata": {},
     "inputWidgets": {},
     "nuid": "03f512b6-6791-49eb-b8d2-cbd1e0670233",
     "showTitle": false,
     "title": ""
    }
   },
   "source": [
    "\n",
    "## Agrupando as partições criadas"
   ]
  },
  {
   "cell_type": "code",
   "execution_count": 0,
   "metadata": {
    "application/vnd.databricks.v1+cell": {
     "cellMetadata": {},
     "inputWidgets": {},
     "nuid": "2bbf6031-671d-409e-bead-0d65a2dfb6cf",
     "showTitle": false,
     "title": ""
    }
   },
   "outputs": [],
   "source": [
    "df_orc.coalesce(1)\\\n",
    "    .write \\\n",
    "    .format(\"orc\") \\\n",
    "    .mode(\"overwrite\") \\\n",
    "    .save(\"/FileStore/tables/arquivos_curso/orc_junto_snappy\")"
   ]
  },
  {
   "cell_type": "code",
   "execution_count": 0,
   "metadata": {
    "application/vnd.databricks.v1+cell": {
     "cellMetadata": {},
     "inputWidgets": {},
     "nuid": "cf463699-f152-42dc-930d-ac5b993291aa",
     "showTitle": false,
     "title": ""
    }
   },
   "outputs": [],
   "source": [
    "display(dbutils.fs.ls(\"/FileStore/tables/arquivos_curso/orc_junto_snappy/\"))"
   ]
  },
  {
   "cell_type": "code",
   "execution_count": 0,
   "metadata": {
    "application/vnd.databricks.v1+cell": {
     "cellMetadata": {},
     "inputWidgets": {},
     "nuid": "b6b9b97f-587e-4039-9ddf-097006f9dee9",
     "showTitle": false,
     "title": ""
    }
   },
   "outputs": [],
   "source": [
    "df_orc.coalesce(1)\\\n",
    "    .write \\\n",
    "    .format(\"orc\") \\\n",
    "    .mode(\"overwrite\") \\\n",
    "    .option(\"compression\", \"zlib\") \\\n",
    "    .save(\"/FileStore/tables/arquivos_curso/orc_junto_zlib\")"
   ]
  },
  {
   "cell_type": "code",
   "execution_count": 0,
   "metadata": {
    "application/vnd.databricks.v1+cell": {
     "cellMetadata": {},
     "inputWidgets": {},
     "nuid": "403d793b-7c8a-4e56-911f-5b54d4636669",
     "showTitle": false,
     "title": ""
    }
   },
   "outputs": [],
   "source": [
    "display(dbutils.fs.ls(\"/FileStore/tables/arquivos_curso/orc_junto_zlib\"))"
   ]
  },
  {
   "cell_type": "code",
   "execution_count": 0,
   "metadata": {
    "application/vnd.databricks.v1+cell": {
     "cellMetadata": {},
     "inputWidgets": {},
     "nuid": "2fbbe282-6b8a-415f-80e6-9c96c46e607e",
     "showTitle": false,
     "title": ""
    }
   },
   "outputs": [],
   "source": [
    "df_orc_zlib = spark.read \\\n",
    "    .option(\"compression\", \"zlib\") \\\n",
    "    .orc(\"/FileStore/tables/arquivos_curso/orc_junto_zlib\")\n",
    "\n",
    "display(df_orc_zlib)"
   ]
  },
  {
   "cell_type": "code",
   "execution_count": 0,
   "metadata": {
    "application/vnd.databricks.v1+cell": {
     "cellMetadata": {},
     "inputWidgets": {},
     "nuid": "d9828ebb-41ad-40ec-8df5-512fce8fbb9a",
     "showTitle": false,
     "title": ""
    }
   },
   "outputs": [],
   "source": []
  }
 ],
 "metadata": {
  "application/vnd.databricks.v1+notebook": {
   "dashboards": [],
   "language": "python",
   "notebookMetadata": {
    "pythonIndentUnit": 4
   },
   "notebookName": "projeto0_aula1",
   "widgets": {}
  },
  "kernelspec": {
   "display_name": "base",
   "language": "python",
   "name": "python3"
  },
  "language_info": {
   "name": "python",
   "version": "3.9.12 (main, Apr  4 2022, 05:22:27) [MSC v.1916 64 bit (AMD64)]"
  },
  "orig_nbformat": 4,
  "vscode": {
   "interpreter": {
    "hash": "59b23a439ce858f6c48b87cdc3961c05fe34c6c004d414990b7e953144d53d79"
   }
  }
 },
 "nbformat": 4,
 "nbformat_minor": 0
}
